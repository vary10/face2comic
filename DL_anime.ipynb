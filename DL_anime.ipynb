{
 "cells": [
  {
   "cell_type": "code",
   "execution_count": 1,
   "metadata": {},
   "outputs": [],
   "source": [
    "%matplotlib inline\n",
    "import matplotlib.pyplot as plt\n",
    "import numpy as np\n",
    "from IPython.display import clear_output\n",
    "\n",
    "import os\n",
    "from torch.backends import cudnn\n",
    "import torch\n",
    "from torch.utils.data import Dataset, DataLoader\n",
    "from torchvision import transforms\n",
    "import torch.nn as nn\n",
    "import torch.nn.functional as F\n",
    "import torchvision\n",
    "import os\n",
    "import pickle\n",
    "from skimage import io\n",
    "import numpy as np\n",
    "from PIL import Image\n",
    "import scipy.misc\n",
    "from torch.autograd import Variable\n",
    "from torch import optim\n",
    "from time import time\n",
    "from tqdm import trange"
   ]
  },
  {
   "cell_type": "code",
   "execution_count": 2,
   "metadata": {
    "scrolled": true
   },
   "outputs": [
    {
     "name": "stderr",
     "output_type": "stream",
     "text": [
      "/usr/local/lib/python3.6/dist-packages/torchvision/transforms/transforms.py:156: UserWarning: The use of the transforms.Scale transform is deprecated, please use transforms.Resize instead.\n",
      "  \"please use transforms.Resize instead.\")\n"
     ]
    }
   ],
   "source": [
    "# data_loader\n",
    "\n",
    "\n",
    "\n",
    "\n",
    "class Namespace:\n",
    "    def __init__(self, **kwargs):\n",
    "        self.__dict__.update(kwargs)\n",
    "    def __str__(self):\n",
    "        return str(self.__dict__)\n",
    "    \n",
    "    \n",
    "    \n",
    "# model hyper-parameters\n",
    "config = Namespace(image_size=64, \n",
    "                   g_conv_dim=64, \n",
    "                   d_conv_dim=64, \n",
    "                   use_reconst_loss=True,\n",
    "                   \n",
    "                   train_iters=20001, \n",
    "                   batch_size=64, \n",
    "                   num_workers=4, \n",
    "                   lr=0.0002,\n",
    "                   beta1=0.5, \n",
    "                   beta2=0.999, \n",
    "                   \n",
    "                   mode='train',\n",
    "                   model_path='./models', \n",
    "                   sample_path='./samples',\n",
    "                   anime_path='./anime',\n",
    "                   real_path='./real',\n",
    "                   log_step=10,\n",
    "                   sample_step=500,\n",
    "                  )\n",
    "\n",
    "\n",
    "\n",
    "class FaceDataset(Dataset):\n",
    "\n",
    "    def __init__(self, root_dir, name, transform=None, load=False):\n",
    "        self.name = name\n",
    "        self.root_dir = root_dir\n",
    "        self.transform = transform\n",
    "        if load:\n",
    "            self.imgs, self.fnames = self.load()\n",
    "        else:\n",
    "            imgs = []\n",
    "            self.fnames = []\n",
    "            for i, fname in enumerate(os.listdir(root_dir)):\n",
    "                if not i % 1000:\n",
    "                    print(i)\n",
    "                img_name = os.path.join(self.root_dir, fname)\n",
    "                image = Image.open(img_name)\n",
    "                if image.mode == 'RGB':\n",
    "                    image = self.transform(image)\n",
    "                    self.fnames.append(fname)\n",
    "                    imgs.append(image)\n",
    "            self.fnames = np.array(self.fnames)\n",
    "            self.imgs = torch.stack(imgs)\n",
    "            self.save()\n",
    "\n",
    "    def __len__(self):\n",
    "        return len(self.fnames)\n",
    "\n",
    "    def __getitem__(self, idx):\n",
    "        return self.imgs[idx]\n",
    "    \n",
    "    def save(self):\n",
    "        np.save(self.name+\"_fn.npy\", self.fnames)\n",
    "        torch.save(self.imgs, self.name+\"_im\")\n",
    "\n",
    "    \n",
    "    def load(self):\n",
    "        return torch.load(self.name+\"_im\"), np.load(self.name+\"_fn.npy\")\n",
    "\n",
    "transform = transforms.Compose([\n",
    "                transforms.Scale((config.image_size, config.image_size)),\n",
    "                transforms.ToTensor(),\n",
    "                transforms.Normalize((0.5, 0.5, 0.5), (0.5, 0.5, 0.5))])\n",
    "\n",
    "real = FaceDataset(root_dir=config.real_path, name=\"real_data\", transform=transform, load=True)\n",
    "anime = FaceDataset(root_dir=config.anime_path, name=\"anime_data\", transform=transform, load=True)"
   ]
  },
  {
   "cell_type": "code",
   "execution_count": 3,
   "metadata": {},
   "outputs": [],
   "source": [
    "real_loader = DataLoader(dataset=real, \n",
    "                         batch_size=config.batch_size,\n",
    "                         shuffle=True,\n",
    "                         num_workers=config.num_workers)\n",
    "\n",
    "anime_loader = DataLoader(dataset=anime,\n",
    "                         batch_size=config.batch_size,\n",
    "                         shuffle=True,\n",
    "                         num_workers=config.num_workers)"
   ]
  },
  {
   "cell_type": "code",
   "execution_count": 4,
   "metadata": {},
   "outputs": [],
   "source": [
    "def deconv(c_in, c_out, k_size, stride=2, pad=1, bn=True):\n",
    "    layers = []\n",
    "    layers.append(nn.ConvTranspose2d(c_in, c_out, k_size, stride, pad, bias=False))\n",
    "    if bn:\n",
    "        layers.append(nn.BatchNorm2d(c_out))\n",
    "    return nn.Sequential(*layers)\n",
    "\n",
    "def conv(c_in, c_out, k_size, stride=2, pad=1, bn=True):\n",
    "    layers = []\n",
    "    layers.append(nn.Conv2d(c_in, c_out, k_size, stride, pad, bias=False))\n",
    "    if bn:\n",
    "        layers.append(nn.BatchNorm2d(c_out))\n",
    "    return nn.Sequential(*layers)\n",
    "\n",
    "class G(nn.Module):\n",
    "    def __init__(self, conv_dim=64):\n",
    "        super(G, self).__init__()\n",
    "        # encoding blocks\n",
    "        self.conv1 = conv(3, conv_dim, 6, pad=2)\n",
    "        self.conv2 = conv(conv_dim, conv_dim*2, 6, pad=2)\n",
    "        \n",
    "        # residual blocks\n",
    "        self.conv3 = conv(conv_dim*2, conv_dim*2, 5, 1, 2)\n",
    "        self.conv4 = conv(conv_dim*2, conv_dim*2, 5, 1, 2)\n",
    "        \n",
    "        # decoding blocks\n",
    "        self.deconv1 = deconv(conv_dim*2, conv_dim, 6, pad=2)\n",
    "        self.deconv2 = deconv(conv_dim, 3, 6, pad=2, bn=False)\n",
    "        \n",
    "        self.do = nn.Dropout(0.3)\n",
    "        \n",
    "    def forward(self, x):\n",
    "        out = F.leaky_relu(self.conv1(x), 0.05)      # (?, 64, 32, 32)\n",
    "#         out = self.do(out)\n",
    "        out = F.leaky_relu(self.conv2(out), 0.05)    # (?, 128, 16, 16)\n",
    "        \n",
    "        encoded = F.leaky_relu(self.conv3(out), 0.05)    # ( \" )\n",
    "#         out = self.do(out)\n",
    "        out = F.leaky_relu(self.conv4(encoded), 0.05)    # ( \" )\n",
    "        \n",
    "        out = F.leaky_relu(self.deconv1(out), 0.05)  # (?, 64, 32, 32)\n",
    "#         out = self.do(out)\n",
    "        out = F.tanh(self.deconv2(out))              # (?, 3, 64, 64)\n",
    "        return out, encoded\n",
    "\n",
    "    \n",
    "class D(nn.Module):\n",
    "    def __init__(self, conv_dim=64, in_dim=3, out_kernel_size=4):\n",
    "        super(D, self).__init__()\n",
    "        self.conv1 = conv(in_dim, conv_dim, 4, bn=False)\n",
    "        self.conv2 = conv(conv_dim, conv_dim*2, 4)\n",
    "        self.conv3 = conv(conv_dim*2, conv_dim*4, 4)\n",
    "        n_out = 1\n",
    "        self.fc = conv(conv_dim*4, n_out, out_kernel_size, 1, 0, False)\n",
    "        self.do = nn.Dropout(0.3)\n",
    "        \n",
    "    def forward(self, x):\n",
    "        out = F.leaky_relu(self.conv1(x), 0.05)    # (?, 64, 32, 32)\n",
    "        out = F.leaky_relu(self.conv2(out), 0.05)  # (?, 128, 16, 16)\n",
    "        out = F.leaky_relu(self.conv3(out), 0.05)  # (?, 256, 8, 8)\n",
    "#         out = self.do(out)\n",
    "        out = self.fc(out).squeeze()\n",
    "        out = F.sigmoid(out)\n",
    "        return out"
   ]
  },
  {
   "cell_type": "code",
   "execution_count": null,
   "metadata": {},
   "outputs": [],
   "source": []
  },
  {
   "cell_type": "code",
   "execution_count": 23,
   "metadata": {},
   "outputs": [],
   "source": [
    "class Solver(object):\n",
    "    def __init__(self, config, real_loader, anime_loader):\n",
    "        self.real_loader = real_loader\n",
    "        self.anime_loader = anime_loader\n",
    "        self.g12 = None\n",
    "        self.g21 = None\n",
    "        self.d1 = None\n",
    "        self.d2 = None\n",
    "        self.d_emb = None\n",
    "        self.g_optimizer = None\n",
    "        self.d_optimizer = None\n",
    "        self.use_reconst_loss = config.use_reconst_loss\n",
    "        self.beta1 = config.beta1\n",
    "        self.beta2 = config.beta2\n",
    "        self.g_conv_dim = config.g_conv_dim\n",
    "        self.d_conv_dim = config.d_conv_dim\n",
    "        self.train_iters = config.train_iters\n",
    "        self.batch_size = config.batch_size\n",
    "        self.lr = config.lr\n",
    "        self.log_step = config.log_step\n",
    "        self.sample_step = config.sample_step\n",
    "        self.sample_path = config.sample_path\n",
    "        self.model_path = config.model_path\n",
    "        self.build_model()\n",
    "        \n",
    "    def build_model(self):\n",
    "        \"\"\"Builds a generator and a discriminator.\"\"\"\n",
    "        self.g12 = G(conv_dim=self.g_conv_dim)\n",
    "        self.g21 = G(conv_dim=self.g_conv_dim)\n",
    "        self.d1 = D(conv_dim=self.d_conv_dim)\n",
    "        self.d2 = D(conv_dim=self.d_conv_dim)\n",
    "        self.d_emb = D(conv_dim=2*self.d_conv_dim, in_dim=128, out_kernel_size=2)\n",
    "        g_params = list(self.g12.parameters()) + list(self.g21.parameters())\n",
    "        d_params = list(self.d1.parameters()) + list(self.d2.parameters()) + list(self.d_emb.parameters())\n",
    "        \n",
    "        self.g_optimizer = optim.Adam(g_params, self.lr, [self.beta1, self.beta2])\n",
    "        self.d_optimizer = optim.Adam(d_params, self.lr, [self.beta1, self.beta2])\n",
    "        \n",
    "        if torch.cuda.is_available():\n",
    "            self.g12.cuda()\n",
    "            self.g21.cuda()\n",
    "            self.d1.cuda()\n",
    "            self.d2.cuda()\n",
    "            self.d_emb.cuda()\n",
    "    \n",
    "    def merge_images(self, sources, targets, k=10):\n",
    "        _, _, h, w = sources.shape\n",
    "        if k == 0:\n",
    "            rows=1\n",
    "        else:\n",
    "            rows = int(np.sqrt(sources.shape[0]))\n",
    "        merged = np.zeros([3, rows*h, rows*w*2])\n",
    "        for idx, (s, t) in enumerate(zip(sources, targets)):\n",
    "            merged[:, (idx // rows)*h:((idx // rows)+1)*h, 2*(idx % rows)*w:(2*(idx % rows)+1)*w] = s\n",
    "            merged[:, (idx // rows)*h:((idx // rows)+1)*h, (2*(idx % rows)+1)*w:(2*(idx % rows)+2)*w] = t\n",
    "        return merged.transpose(1, 2, 0)\n",
    "    \n",
    "    def to_var(self, x):\n",
    "        \"\"\"Converts numpy to variable.\"\"\"\n",
    "        if torch.cuda.is_available():\n",
    "            x = x.cuda()\n",
    "        return Variable(x).cuda()\n",
    "    \n",
    "    def to_data(self, x):\n",
    "        \"\"\"Converts variable to numpy.\"\"\"\n",
    "        if torch.cuda.is_available():\n",
    "            x = x.cpu()\n",
    "        return x.data.numpy()\n",
    "    \n",
    "    def reset_grad(self):\n",
    "        \"\"\"Zeros the gradient buffers.\"\"\"\n",
    "        self.g_optimizer.zero_grad()\n",
    "        self.d_optimizer.zero_grad()\n",
    "\n",
    "    def plot_history(self, *history):\n",
    "        if len(history[0]) <= 20:\n",
    "            return\n",
    "        for h, t in zip(history, [\"d_anime_loss\", \"d_real_loss\", \"d_fake_anime_loss\", \"d_fake_real_loss\", \"g_loss12\", \"g_loss21\"]):\n",
    "            plt.figure()\n",
    "            plt.title('{}'.format(t))\n",
    "            plt.plot(h[20:], label='train', zorder=1)\n",
    "            plt.xlabel('train steps')\n",
    "            plt.legend(loc='best')\n",
    "            plt.grid()\n",
    "            plt.show()\n",
    "    \n",
    "    def train(self):\n",
    "        real_iter = iter(self.real_loader)\n",
    "        anime_iter = iter(self.anime_loader)\n",
    "        iter_per_epoch = min(len(real_iter), len(anime_iter))\n",
    "        \n",
    "        # fixed anime and real for sampling\n",
    "\n",
    "        fixed_real = self.to_var(real_iter.next()[:25])\n",
    "        fixed_anime = self.to_var(anime_iter.next()[:25])\n",
    "        \n",
    "        ep = 0\n",
    "        \n",
    "        d_anime_loss_log, d_real_loss_log, d_fake_anime_loss_log, d_fake_real_loss_log, g_loss12_log, g_loss21_log = [], [], [], [], [], []\n",
    "        \n",
    "        for step in trange(self.train_iters+1):\n",
    "            # reset data_iter for each epoch\n",
    "            if (step+1) % iter_per_epoch == 0:\n",
    "                ep+=1\n",
    "                anime_iter = iter(self.anime_loader)\n",
    "                real_iter = iter(self.real_loader)\n",
    "            \n",
    "            # load real and anime dataset\n",
    "            real = real_iter.next() \n",
    "            real = self.to_var(real)\n",
    "            anime = anime_iter.next() \n",
    "            anime = self.to_var(anime)\n",
    "\n",
    "            \n",
    "            #============ train D ============#\n",
    "            \n",
    "            # train with original images\n",
    "            self.reset_grad()\n",
    "            out = self.d1(anime)\n",
    "            d1_loss = torch.mean((out - Variable(torch.from_numpy(np.random.uniform(low=0.8, size=out.shape)).float().cuda()))**2)\n",
    "            \n",
    "            out = self.d2(real)\n",
    "            d2_loss = torch.mean((out - Variable(torch.from_numpy(np.random.uniform(low=0.8, size=out.shape)).float().cuda()))**2)\n",
    "            \n",
    "            d_anime_loss = d1_loss\n",
    "            d_real_loss = d2_loss\n",
    "            d_orig_loss = d1_loss + d2_loss\n",
    "            d_orig_loss.backward()\n",
    "            self.d_optimizer.step()\n",
    "            \n",
    "            # train with fake images\n",
    "            self.reset_grad()\n",
    "            fake_real, emb12 = self.g12(anime)\n",
    "            out = self.d2(fake_real)\n",
    "            d2_loss = torch.mean((out - Variable(torch.from_numpy(np.random.uniform(high=0.2, size=out.shape)).float().cuda()))**2)\n",
    "            \n",
    "            oute12 = self.d_emb(emb12)\n",
    "            \n",
    "            fake_anime, emb21 = self.g21(real)\n",
    "            out = self.d1(fake_anime)\n",
    "            d1_loss = torch.mean((out - Variable(torch.from_numpy(np.random.uniform(high=0.2, size=out.shape)).float().cuda()))**2)\n",
    "            oute21 = self.d_emb(emb21)\n",
    "            d_emb_loss = torch.mean((oute12-1)**2) + torch.mean(oute21**2)\n",
    "            \n",
    "            d_fake_anime_loss = d2_loss\n",
    "            d_fake_real_loss = d1_loss\n",
    "            d_fake_loss = d1_loss + d2_loss + d_emb_loss\n",
    "            d_fake_loss.backward()\n",
    "            self.d_optimizer.step()\n",
    "            \n",
    "            #============ train G ============#\n",
    "            \n",
    "            # train anime-real-anime cycle\n",
    "            self.reset_grad()\n",
    "            fake_real, emb12 = self.g12(anime)\n",
    "            out = self.d2(fake_real)\n",
    "            out_emb = self.d_emb(emb12)\n",
    "            reconst_anime, _ = self.g21(fake_real)\n",
    "\n",
    "            g_loss12 = torch.mean((out-1)**2) \n",
    "            g_loss12 += 0.5 * torch.mean(out_emb**2)\n",
    "            if self.use_reconst_loss:\n",
    "                g_loss12 += torch.mean((anime - reconst_anime)**2)\n",
    "\n",
    "            g_loss12.backward()\n",
    "            self.g_optimizer.step()\n",
    "\n",
    "            # train real-anime-real cycle\n",
    "            self.reset_grad()\n",
    "            fake_anime, emb21 = self.g21(real)\n",
    "            out = self.d1(fake_anime)\n",
    "            out_emb = self.d_emb(emb21)\n",
    "            reconst_real, _ = self.g12(fake_anime)\n",
    "            g_loss21 = torch.mean((out-1)**2) \n",
    "            g_loss21 += 0.5 * torch.mean((out_emb-1)**2)\n",
    "            if self.use_reconst_loss:\n",
    "                g_loss21 += torch.mean((real - reconst_real)**2)\n",
    "\n",
    "            g_loss21.backward()\n",
    "            self.g_optimizer.step()\n",
    "            \n",
    "            # print the log info\n",
    "            if (step+1) % self.log_step == 0:\n",
    "                d_anime_loss_log.append(d_anime_loss.data[0])\n",
    "                d_real_loss_log.append(d_real_loss.data[0])\n",
    "                d_fake_anime_loss_log.append(d_fake_anime_loss.data[0])\n",
    "                d_fake_real_loss_log.append(d_fake_real_loss.data[0])\n",
    "                g_loss12_log.append(g_loss12.data[0])\n",
    "                g_loss21_log.append(g_loss21.data[0])\n",
    "                clear_output(True)\n",
    "                self.plot_history(d_anime_loss_log, d_real_loss_log, d_fake_anime_loss_log, d_fake_real_loss_log, g_loss12_log, g_loss21_log)\n",
    "\n",
    "            # save the sampled images\n",
    "            if (step+1) % self.sample_step == 0:\n",
    "                \n",
    "                \n",
    "                fake_real, _ = self.g12(fixed_anime)\n",
    "                fake_anime, _ = self.g21(fixed_real)\n",
    "                \n",
    "                restored_anime, _ = self.g21(fake_real)\n",
    "                restored_real, _ = self.g12(fake_anime)\n",
    "                \n",
    "                anime, fake_anime, restored_anime = self.to_data(fixed_anime), self.to_data(fake_anime), self.to_data(restored_anime)\n",
    "                real, fake_real, restored_real = self.to_data(fixed_real), self.to_data(fake_real), self.to_data(restored_real)\n",
    "                \n",
    "\n",
    "#                 merged = self.merge_images(anime, fake_real)\n",
    "#                 path = os.path.join(self.sample_path, 'sample-%d-a-r.png' %(step+1))\n",
    "#                 io.imsave(path, merged)\n",
    "#                 print ('saved %s' %path)\n",
    "                \n",
    "                merged = self.merge_images(real, fake_anime)\n",
    "                path = os.path.join(self.sample_path, 'sample-%d-r-a.png' %(step+1))\n",
    "                scipy.misc.imsave(path, merged)\n",
    "                print ('saved %s' %path)\n",
    "\n",
    "                merged = self.merge_images(real, restored_real)\n",
    "                path = os.path.join(self.sample_path, 'sample-%d-r-r.png' %(step+1))\n",
    "                scipy.misc.imsave(path, merged)\n",
    "                print ('saved %s' %path)\n",
    "            \n",
    "                merged = self.merge_images(anime, restored_anime)\n",
    "                path = os.path.join(self.sample_path, 'sample-%d-a-a.png' %(step+1))\n",
    "                scipy.misc.imsave(path, merged)\n",
    "                print ('saved %s' %path)\n",
    "                \n",
    "                merged = self.merge_images(anime, fake_real)\n",
    "                path = os.path.join(self.sample_path, 'sample-%d-a-r.png' %(step+1))\n",
    "                scipy.misc.imsave(path, merged)\n",
    "                print ('saved %s' %path)\n",
    "            \n",
    "            if (step+1) % 5000 == 0:\n",
    "                # save the model parameters for each epoch\n",
    "                g12_path = os.path.join(self.model_path, 'g12-%d.pkl' %(step+1))\n",
    "                g21_path = os.path.join(self.model_path, 'g21-%d.pkl' %(step+1))\n",
    "                d1_path = os.path.join(self.model_path, 'd1-%d.pkl' %(step+1))\n",
    "                d2_path = os.path.join(self.model_path, 'd2-%d.pkl' %(step+1))\n",
    "                torch.save(self.g12.state_dict(), g12_path)\n",
    "                torch.save(self.g21.state_dict(), g21_path)\n",
    "                torch.save(self.d1.state_dict(), d1_path)\n",
    "                torch.save(self.d2.state_dict(), d2_path)"
   ]
  },
  {
   "cell_type": "code",
   "execution_count": 24,
   "metadata": {},
   "outputs": [],
   "source": [
    "config.train_iters=150001"
   ]
  },
  {
   "cell_type": "code",
   "execution_count": null,
   "metadata": {
    "scrolled": false
   },
   "outputs": [
    {
     "data": {
      "image/png": "[encoded data removed]",
      "text/plain": [
       "<matplotlib.figure.Figure at 0x7f2b49a6f5c0>"
      ]
     },
     "metadata": {},
     "output_type": "display_data"
    },
    {
     "data": {
      "image/png": "[encoded data removed]",
      "text/plain": [
       "<matplotlib.figure.Figure at 0x7f2b49b19828>"
      ]
     },
     "metadata": {},
     "output_type": "display_data"
    },
    {
     "data": {
      "image/png": "[encoded data removed]",
      "text/plain": [
       "<matplotlib.figure.Figure at 0x7f2b4841df28>"
      ]
     },
     "metadata": {},
     "output_type": "display_data"
    },
    {
     "data": {
      "image/png": "[encoded data removed]",
      "text/plain": [
       "<matplotlib.figure.Figure at 0x7f2b484b60f0>"
      ]
     },
     "metadata": {},
     "output_type": "display_data"
    },
    {
     "data": {
      "image/png": "[encoded data removed]",
      "text/plain": [
       "<matplotlib.figure.Figure at 0x7f2b49c2c8d0>"
      ]
     },
     "metadata": {},
     "output_type": "display_data"
    },
    {
     "data": {
      "image/png": "[encoded data removed]",
      "text/plain": [
       "<matplotlib.figure.Figure at 0x7f2b4a4c8a90>"
      ]
     },
     "metadata": {},
     "output_type": "display_data"
    },
    {
     "name": "stderr",
     "output_type": "stream",
     "text": [
      " 75%|███████▍  | 111921/150002 [8:03:07<2:44:23,  3.86it/s]"
     ]
    }
   ],
   "source": [
    "import sys\n",
    "\n",
    "def str2bool(v):\n",
    "    return v.lower() in ('true')\n",
    "\n",
    "def main(config, real=None, anime=None):\n",
    "    solver = Solver(config, real_loader, anime_loader)\n",
    "    cudnn.benchmark = True \n",
    "    \n",
    "    # create directories if not exist\n",
    "    if not os.path.exists(config.model_path):\n",
    "        os.makedirs(config.model_path)\n",
    "    if not os.path.exists(config.sample_path):\n",
    "        os.makedirs(config.sample_path)\n",
    "    \n",
    "    if config.mode == 'train':\n",
    "        solver.train()\n",
    "    elif config.mode == 'sample':\n",
    "        solver.sample()\n",
    "\n",
    "\n",
    "t = time()\n",
    "main(config, real, anime)\n",
    "print(time()-t)"
   ]
  },
  {
   "cell_type": "code",
   "execution_count": 4,
   "metadata": {},
   "outputs": [],
   "source": [
    "import imageio\n",
    "with imageio.get_writer('./samples/res_ar.gif', mode='I', duration=0.5) as writer:\n",
    "    for i, filename in enumerate(os.listdir('./samples/')):\n",
    "        if \"a-r\" in filename and not i % 5:\n",
    "            image = imageio.imread('./samples/' + filename)\n",
    "            writer.append_data(image)"
   ]
  },
  {
   "cell_type": "code",
   "execution_count": 6,
   "metadata": {
    "scrolled": false
   },
   "outputs": [],
   "source": [
    "import imageio\n",
    "old_im=None\n",
    "\n",
    "def face_dif(old, im):\n",
    "    return np.linalg.norm(np.array(old_im)[15:60, 75:115].astype(np.float) - np.array(image)[15:60, 75:115].astype(np.float))\n",
    "\n",
    "with imageio.get_writer('./samples/res_ra.gif', mode='I', duration=0.5) as writer:\n",
    "    for i, filename in enumerate(os.listdir('./samples/')):\n",
    "        if \"r-a\" in filename and not i % 5:\n",
    "            image = imageio.imread('./samples/' + filename)\n",
    "            if not old_im is None:\n",
    "#                 print(face_dif(old_im, image))\n",
    "#                 if 1500 <= face_dif(old_im, image) <= 3000:\n",
    "                writer.append_data(old_im)\n",
    "            old_im = image\n",
    "#             writer.append_data(image)"
   ]
  },
  {
   "cell_type": "code",
   "execution_count": 39,
   "metadata": {},
   "outputs": [
    {
     "name": "stderr",
     "output_type": "stream",
     "text": [
      "/usr/local/lib/python3.6/dist-packages/torchvision/transforms/transforms.py:156: UserWarning: The use of the transforms.Scale transform is deprecated, please use transforms.Resize instead.\n",
      "  \"please use transforms.Resize instead.\")\n"
     ]
    },
    {
     "name": "stdout",
     "output_type": "stream",
     "text": [
      "0\n",
      "1000\n",
      "2000\n",
      "3000\n",
      "4000\n",
      "5000\n",
      "6000\n",
      "7000\n",
      "8000\n",
      "9000\n",
      "10000\n",
      "11000\n",
      "12000\n",
      "13000\n",
      "14000\n",
      "15000\n",
      "16000\n",
      "17000\n",
      "18000\n",
      "19000\n",
      "20000\n",
      "21000\n",
      "22000\n",
      "23000\n",
      "24000\n",
      "25000\n",
      "26000\n",
      "27000\n",
      "28000\n",
      "29000\n",
      "30000\n",
      "31000\n",
      "32000\n",
      "33000\n",
      "34000\n",
      "35000\n",
      "36000\n",
      "37000\n",
      "38000\n",
      "39000\n",
      "40000\n",
      "41000\n",
      "42000\n",
      "43000\n",
      "44000\n",
      "45000\n",
      "46000\n",
      "47000\n",
      "48000\n",
      "49000\n",
      "50000\n",
      "51000\n",
      "(3, 320, 640)\n",
      "[0, 64, 0, 64]\n",
      "(3, 64, 64) (3, 64, 64)\n",
      "[0, 64, 128, 192]\n",
      "(3, 64, 64) (3, 64, 64)\n",
      "[0, 64, 256, 320]\n",
      "(3, 64, 64) (3, 64, 64)\n",
      "[0, 64, 384, 448]\n",
      "(3, 64, 64) (3, 64, 64)\n",
      "[0, 64, 512, 576]\n",
      "(3, 64, 64) (3, 64, 64)\n",
      "[64, 128, 0, 64]\n",
      "(3, 64, 64) (3, 64, 64)\n",
      "[64, 128, 128, 192]\n",
      "(3, 64, 64) (3, 64, 64)\n",
      "[64, 128, 256, 320]\n",
      "(3, 64, 64) (3, 64, 64)\n",
      "[64, 128, 384, 448]\n",
      "(3, 64, 64) (3, 64, 64)\n",
      "[64, 128, 512, 576]\n",
      "(3, 64, 64) (3, 64, 64)\n",
      "[128, 192, 0, 64]\n",
      "(3, 64, 64) (3, 64, 64)\n",
      "[128, 192, 128, 192]\n",
      "(3, 64, 64) (3, 64, 64)\n",
      "[128, 192, 256, 320]\n",
      "(3, 64, 64) (3, 64, 64)\n",
      "[128, 192, 384, 448]\n",
      "(3, 64, 64) (3, 64, 64)\n",
      "[128, 192, 512, 576]\n",
      "(3, 64, 64) (3, 64, 64)\n",
      "[192, 256, 0, 64]\n",
      "(3, 64, 64) (3, 64, 64)\n",
      "[192, 256, 128, 192]\n",
      "(3, 64, 64) (3, 64, 64)\n",
      "[192, 256, 256, 320]\n",
      "(3, 64, 64) (3, 64, 64)\n",
      "[192, 256, 384, 448]\n",
      "(3, 64, 64) (3, 64, 64)\n",
      "[192, 256, 512, 576]\n",
      "(3, 64, 64) (3, 64, 64)\n",
      "[256, 320, 0, 64]\n",
      "(3, 64, 64) (3, 64, 64)\n",
      "[256, 320, 128, 192]\n",
      "(3, 64, 64) (3, 64, 64)\n",
      "[256, 320, 256, 320]\n",
      "(3, 64, 64) (3, 64, 64)\n",
      "[256, 320, 384, 448]\n",
      "(3, 64, 64) (3, 64, 64)\n",
      "[256, 320, 512, 576]\n",
      "(3, 64, 64) (3, 64, 64)\n"
     ]
    },
    {
     "name": "stderr",
     "output_type": "stream",
     "text": [
      "/usr/local/lib/python3.6/dist-packages/skimage/util/dtype.py:122: UserWarning: Possible precision loss when converting from float64 to uint8\n",
      "  .format(dtypeobj_in, dtypeobj_out))\n"
     ]
    },
    {
     "name": "stdout",
     "output_type": "stream",
     "text": [
      "saved ./samples/sample-35001-a-r.png\n",
      "(3, 320, 640)\n",
      "[0, 64, 0, 64]\n",
      "(3, 64, 64) (3, 64, 64)\n",
      "[0, 64, 128, 192]\n",
      "(3, 64, 64) (3, 64, 64)\n",
      "[0, 64, 256, 320]\n",
      "(3, 64, 64) (3, 64, 64)\n",
      "[0, 64, 384, 448]\n",
      "(3, 64, 64) (3, 64, 64)\n",
      "[0, 64, 512, 576]\n",
      "(3, 64, 64) (3, 64, 64)\n",
      "[64, 128, 0, 64]\n",
      "(3, 64, 64) (3, 64, 64)\n",
      "[64, 128, 128, 192]\n",
      "(3, 64, 64) (3, 64, 64)\n",
      "[64, 128, 256, 320]\n",
      "(3, 64, 64) (3, 64, 64)\n",
      "[64, 128, 384, 448]\n",
      "(3, 64, 64) (3, 64, 64)\n",
      "[64, 128, 512, 576]\n",
      "(3, 64, 64) (3, 64, 64)\n",
      "[128, 192, 0, 64]\n",
      "(3, 64, 64) (3, 64, 64)\n",
      "[128, 192, 128, 192]\n",
      "(3, 64, 64) (3, 64, 64)\n",
      "[128, 192, 256, 320]\n",
      "(3, 64, 64) (3, 64, 64)\n",
      "[128, 192, 384, 448]\n",
      "(3, 64, 64) (3, 64, 64)\n",
      "[128, 192, 512, 576]\n",
      "(3, 64, 64) (3, 64, 64)\n",
      "[192, 256, 0, 64]\n",
      "(3, 64, 64) (3, 64, 64)\n",
      "[192, 256, 128, 192]\n",
      "(3, 64, 64) (3, 64, 64)\n",
      "[192, 256, 256, 320]\n",
      "(3, 64, 64) (3, 64, 64)\n",
      "[192, 256, 384, 448]\n",
      "(3, 64, 64) (3, 64, 64)\n",
      "[192, 256, 512, 576]\n",
      "(3, 64, 64) (3, 64, 64)\n",
      "[256, 320, 0, 64]\n",
      "(3, 64, 64) (3, 64, 64)\n",
      "[256, 320, 128, 192]\n",
      "(3, 64, 64) (3, 64, 64)\n",
      "[256, 320, 256, 320]\n",
      "(3, 64, 64) (3, 64, 64)\n",
      "[256, 320, 384, 448]\n",
      "(3, 64, 64) (3, 64, 64)\n",
      "[256, 320, 512, 576]\n",
      "(3, 64, 64) (3, 64, 64)\n"
     ]
    },
    {
     "name": "stderr",
     "output_type": "stream",
     "text": [
      "/usr/local/lib/python3.6/dist-packages/ipykernel_launcher.py:47: DeprecationWarning: `imsave` is deprecated!\n",
      "`imsave` is deprecated in SciPy 1.0.0, and will be removed in 1.2.0.\n",
      "Use ``imageio.imwrite`` instead.\n"
     ]
    },
    {
     "name": "stdout",
     "output_type": "stream",
     "text": [
      "saved ./samples/sample-35001-r-a.png\n"
     ]
    }
   ],
   "source": [
    "g12 = G(conv_dim=64)\n",
    "g21 = G(conv_dim=64)\n",
    "d1 = D(conv_dim=64)\n",
    "d2 = D(conv_dim=64)\n",
    "real_loader, anime_loader = get_loader(config, load=True)\n",
    "real_iter = iter(real_loader)\n",
    "anime_iter = iter(anime_loader)\n",
    "solver = Solver(config, real_loader, anime_loader)\n",
    "# fixed anime and real for sampling\n",
    "\n",
    "fixed_real = solver.to_var(real_iter.next()[:25])\n",
    "fixed_anime = solver.to_var(anime_iter.next()[:25])\n",
    "\n",
    "step=35000\n",
    "# if step ==0:\n",
    "#     continue\n",
    "# save the model parameters for each epoch\n",
    "g12_path = os.path.join(solver.model_path, 'g12-%d.pkl' %(step))\n",
    "g21_path = os.path.join(solver.model_path, 'g21-%d.pkl' %(step))\n",
    "d1_path = os.path.join(solver.model_path, 'd1-%d.pkl' %(step))\n",
    "d2_path = os.path.join(solver.model_path, 'd2-%d.pkl' %(step))\n",
    "\n",
    "g12.load_state_dict(torch.load(g12_path))\n",
    "g21.load_state_dict(torch.load(g21_path))\n",
    "d1.load_state_dict(torch.load(d1_path))\n",
    "d2.load_state_dict(torch.load(d2_path))\n",
    "g12.cuda()\n",
    "g21.cuda()\n",
    "d1.cuda()\n",
    "d2.cuda()\n",
    "    \n",
    "    \n",
    "    \n",
    "fake_real = g12(fixed_anime)\n",
    "fake_anime = g21(fixed_real)\n",
    "\n",
    "anime, fake_anime = solver.to_data(fixed_anime), solver.to_data(fake_anime)\n",
    "real , fake_real = solver.to_data(fixed_real), solver.to_data(fake_real)\n",
    "\n",
    "merged = solver.merge_images(anime, fake_real,k=0)\n",
    "path = os.path.join(config.sample_path, 'sample-%d-a-r.png' %(step+1))\n",
    "io.imsave(\"/home/vary10/notebooks/k.jpg\", merged)\n",
    "print ('saved %s' %path)\n",
    "\n",
    "merged = solver.merge_images(real, fake_anime,k=0)\n",
    "path = os.path.join(config.sample_path, 'sample-%d-r-a.png' %(step+1))\n",
    "scipy.misc.imsave(\"/home/vary10/notebooks/a.jpg\", merged)\n",
    "print ('saved %s' %path)\n",
    "\n",
    "\n"
   ]
  },
  {
   "cell_type": "code",
   "execution_count": null,
   "metadata": {},
   "outputs": [],
   "source": []
  },
  {
   "cell_type": "code",
   "execution_count": null,
   "metadata": {},
   "outputs": [],
   "source": []
  },
  {
   "cell_type": "code",
   "execution_count": null,
   "metadata": {},
   "outputs": [],
   "source": []
  },
  {
   "cell_type": "code",
   "execution_count": null,
   "metadata": {},
   "outputs": [],
   "source": []
  },
  {
   "cell_type": "code",
   "execution_count": null,
   "metadata": {},
   "outputs": [],
   "source": []
  },
  {
   "cell_type": "code",
   "execution_count": null,
   "metadata": {},
   "outputs": [],
   "source": []
  },
  {
   "cell_type": "code",
   "execution_count": 34,
   "metadata": {
    "scrolled": true
   },
   "outputs": [],
   "source": [
    "import os\n",
    "from PIL import Image\n",
    "import numpy as np\n",
    "# i = 0\n",
    "# for folder in os.listdir('/home/vary10/Downloads/danbooru_faces/'):\n",
    "#     fnames = os.listdir('/home/vary10/Downloads/danbooru_faces/' + folder)\n",
    "#     idx = np.random.choice(np.arange(len(fnames)), replace=False, size=len(fnames) * 10 // 88 + 1)\n",
    "#     for j in idx:\n",
    "#         i+=1\n",
    "#         im = Image.open('/home/vary10/Downloads/danbooru_faces/' + folder+\"/\"+fnames[j])\n",
    "#         os.rename('/home/vary10/Downloads/danbooru_faces/' + folder+\"/\"+fnames[j], '/home/vary10/notebooks/anime_faces/'+folder+fnames[j])\n",
    "#         if not i % 1000:\n",
    "#             print(i)"
   ]
  },
  {
   "cell_type": "code",
   "execution_count": 43,
   "metadata": {
    "scrolled": true
   },
   "outputs": [
    {
     "name": "stdout",
     "output_type": "stream",
     "text": [
      "1000\n",
      "2000\n",
      "3000\n",
      "4000\n",
      "5000\n",
      "6000\n",
      "7000\n",
      "8000\n",
      "9000\n",
      "10000\n",
      "11000\n",
      "12000\n",
      "13000\n",
      "14000\n",
      "15000\n",
      "16000\n",
      "17000\n",
      "18000\n",
      "19000\n",
      "20000\n",
      "21000\n",
      "22000\n",
      "23000\n",
      "24000\n",
      "25000\n",
      "26000\n",
      "27000\n",
      "28000\n",
      "29000\n",
      "30000\n",
      "31000\n",
      "32000\n",
      "33000\n",
      "34000\n",
      "35000\n",
      "36000\n",
      "37000\n",
      "38000\n",
      "39000\n",
      "40000\n",
      "41000\n",
      "42000\n",
      "43000\n",
      "44000\n",
      "45000\n",
      "46000\n",
      "47000\n",
      "48000\n",
      "49000\n",
      "50000\n",
      "51000\n",
      "52000\n",
      "53000\n",
      "54000\n",
      "55000\n",
      "56000\n",
      "57000\n",
      "58000\n",
      "59000\n",
      "60000\n",
      "61000\n",
      "62000\n",
      "63000\n",
      "64000\n",
      "65000\n",
      "66000\n",
      "67000\n",
      "68000\n",
      "69000\n",
      "70000\n",
      "71000\n",
      "72000\n",
      "73000\n",
      "74000\n",
      "75000\n",
      "76000\n",
      "77000\n",
      "78000\n",
      "79000\n",
      "80000\n",
      "81000\n",
      "82000\n",
      "83000\n",
      "84000\n",
      "85000\n",
      "86000\n",
      "87000\n",
      "88000\n",
      "89000\n",
      "90000\n",
      "91000\n",
      "92000\n",
      "93000\n",
      "94000\n",
      "95000\n",
      "96000\n",
      "97000\n",
      "98000\n",
      "99000\n",
      "100000\n",
      "101000\n",
      "102000\n",
      "103000\n",
      "104000\n",
      "105000\n",
      "106000\n",
      "107000\n",
      "108000\n",
      "109000\n",
      "110000\n",
      "111000\n",
      "112000\n",
      "113000\n",
      "114000\n",
      "115000\n",
      "116000\n",
      "117000\n",
      "118000\n"
     ]
    }
   ],
   "source": [
    "from PIL import Image\n",
    "import numpy as np\n",
    "import os\n",
    "i = 0\n",
    "for folder in os.listdir('/home/vary10/Downloads/danbooru_faces/'):\n",
    "    fnames = os.listdir('/home/vary10/Downloads/danbooru_faces/' + folder)\n",
    "    idx = np.random.choice(np.arange(len(fnames)), replace=False, size=len(fnames) * 100 // 385 + 1)\n",
    "    for j in idx:\n",
    "#         im = Image.open('/home/vary10/Downloads/danbooru_faces/' + folder+\"/\"+fnames[j])\n",
    "        os.rename('/home/vary10/Downloads/danbooru_faces/' + folder+\"/\"+fnames[j], './anime/'+folder+fnames[j])\n",
    "        i += 1\n",
    "        if not i % 1000:\n",
    "            print(i)"
   ]
  },
  {
   "cell_type": "code",
   "execution_count": 5,
   "metadata": {},
   "outputs": [],
   "source": [
    "import numpy as np\n",
    "from skimage import io\n",
    "from matplotlib import pyplot as plt\n",
    "from skimage.transform import resize\n",
    "from skimage.filters import gaussian\n",
    "# im = Image.open('/home/vary10/Downloads/danbooru_faces/.sin/2641142_1.jpg')"
   ]
  },
  {
   "cell_type": "code",
   "execution_count": null,
   "metadata": {},
   "outputs": [],
   "source": [
    "im = io.imread(\"./anime_faces/444237.jpg\")"
   ]
  },
  {
   "cell_type": "code",
   "execution_count": null,
   "metadata": {},
   "outputs": [],
   "source": [
    "im"
   ]
  },
  {
   "cell_type": "code",
   "execution_count": null,
   "metadata": {},
   "outputs": [],
   "source": [
    "plt.imshow(np.swapaxes(np.swapaxes(im,1, 2),1,2))\n",
    "plt.show()"
   ]
  },
  {
   "cell_type": "code",
   "execution_count": 11,
   "metadata": {},
   "outputs": [],
   "source": [
    "im = Image.open(\"./anime_faces/77gl2377650_1.jpg\")"
   ]
  },
  {
   "cell_type": "code",
   "execution_count": 4,
   "metadata": {},
   "outputs": [],
   "source": [
    "import shutil\n",
    "from skimage.transform import resize"
   ]
  },
  {
   "cell_type": "code",
   "execution_count": 21,
   "metadata": {},
   "outputs": [
    {
     "name": "stderr",
     "output_type": "stream",
     "text": [
      "/usr/local/lib/python3.6/dist-packages/skimage/transform/_warps.py:84: UserWarning: The default mode, 'constant', will be changed to 'reflect' in skimage 0.15.\n",
      "  warn(\"The default mode, 'constant', will be changed to 'reflect' in \"\n",
      "/usr/local/lib/python3.6/dist-packages/skimage/util/dtype.py:122: UserWarning: Possible precision loss when converting from float64 to uint8\n",
      "  .format(dtypeobj_in, dtypeobj_out))\n"
     ]
    }
   ],
   "source": [
    "fn = os.listdir(\"./real/\")\n",
    "for n in fn:\n",
    "    if \"chec\" in n:\n",
    "        continue\n",
    "    im = io.imread(\"./real/\"+n)\n",
    "    if im.shape[0]>400:\n",
    "        im = resize(im, (64,64))\n",
    "        io.imsave(\"./real/\"+n, im)"
   ]
  },
  {
   "cell_type": "code",
   "execution_count": 18,
   "metadata": {},
   "outputs": [],
   "source": [
    "def output_calc(n, k, s, p, deconv=False):\n",
    "    r = 0\n",
    "    if not deconv:\n",
    "        while n + 2 * p >= k:\n",
    "            n -= s\n",
    "            r += 1\n",
    "    else:\n",
    "        while n > 0:\n",
    "            n -= 1\n",
    "            r += s\n",
    "        \n",
    "    print(r)"
   ]
  },
  {
   "cell_type": "code",
   "execution_count": 24,
   "metadata": {},
   "outputs": [
    {
     "name": "stdout",
     "output_type": "stream",
     "text": [
      "1\n"
     ]
    }
   ],
   "source": [
    "output_calc(2, 4, 2, 1)"
   ]
  },
  {
   "cell_type": "code",
   "execution_count": 21,
   "metadata": {},
   "outputs": [],
   "source": [
    "files = np.fromfile(\"/home/vary10/Downloads/Anno/list_attr_celeba.txt\", sep=\"\\r\")"
   ]
  },
  {
   "cell_type": "code",
   "execution_count": 22,
   "metadata": {},
   "outputs": [
    {
     "data": {
      "text/plain": [
       "(2,)"
      ]
     },
     "execution_count": 22,
     "metadata": {},
     "output_type": "execute_result"
    }
   ],
   "source": [
    "files.shape"
   ]
  },
  {
   "cell_type": "code",
   "execution_count": 23,
   "metadata": {},
   "outputs": [
    {
     "data": {
      "text/plain": [
       "array([2.02599e+05, 5.00000e+00])"
      ]
     },
     "execution_count": 23,
     "metadata": {},
     "output_type": "execute_result"
    }
   ],
   "source": [
    "files"
   ]
  },
  {
   "cell_type": "code",
   "execution_count": 2,
   "metadata": {},
   "outputs": [],
   "source": [
    "import pandas as pd"
   ]
  },
  {
   "cell_type": "code",
   "execution_count": 24,
   "metadata": {},
   "outputs": [],
   "source": [
    "s = open(\"/home/vary10/Downloads/Anno/list_attr_celeba.txt\").read()\n",
    "s= s.replace(\"  \", \" \")"
   ]
  },
  {
   "cell_type": "code",
   "execution_count": 25,
   "metadata": {},
   "outputs": [],
   "source": [
    "s= s.replace(\" \", \",\")"
   ]
  },
  {
   "cell_type": "code",
   "execution_count": null,
   "metadata": {},
   "outputs": [],
   "source": []
  },
  {
   "cell_type": "code",
   "execution_count": null,
   "metadata": {},
   "outputs": [],
   "source": []
  },
  {
   "cell_type": "code",
   "execution_count": 20,
   "metadata": {},
   "outputs": [],
   "source": [
    "s = s.split(\"\\n\")"
   ]
  },
  {
   "cell_type": "code",
   "execution_count": 23,
   "metadata": {},
   "outputs": [
    {
     "data": {
      "text/plain": [
       "'000001.jpg -1  1  1 -1 -1 -1 -1 -1 -1 -1 -1  1 -1 -1 -1 -1 -1 -1  1  1 -1  1 -1 -1  1 -1 -1  1 -1 -1 -1  1  1 -1  1 -1  1 -1 -1  1'"
      ]
     },
     "execution_count": 23,
     "metadata": {},
     "output_type": "execute_result"
    }
   ],
   "source": [
    "s[1]"
   ]
  },
  {
   "cell_type": "code",
   "execution_count": 26,
   "metadata": {},
   "outputs": [],
   "source": [
    "f = open(\"/home/vary10/Downloads/Anno/list_attr_celeba.txt\", \"w\")"
   ]
  },
  {
   "cell_type": "code",
   "execution_count": 27,
   "metadata": {},
   "outputs": [],
   "source": [
    "print(s, file=f)"
   ]
  },
  {
   "cell_type": "code",
   "execution_count": 28,
   "metadata": {},
   "outputs": [],
   "source": [
    "files = pd.read_table(\"/home/vary10/Downloads/Anno/list_attr_celeba.txt\", sep=\",\")"
   ]
  },
  {
   "cell_type": "code",
   "execution_count": 35,
   "metadata": {},
   "outputs": [],
   "source": [
    "females = files[\"name\"][files.Male == -1].values"
   ]
  },
  {
   "cell_type": "code",
   "execution_count": 36,
   "metadata": {},
   "outputs": [],
   "source": [
    "for fname in females:\n",
    "    os.rename(\"/home/vary10/Downloads/CelebA/Img/img_align_celeba/\"+fname, \"/home/vary10/notebooks/DL/Project/real/\"+fname)"
   ]
  },
  {
   "cell_type": "code",
   "execution_count": null,
   "metadata": {},
   "outputs": [],
   "source": []
  }
 ],
 "metadata": {
  "kernelspec": {
   "display_name": "Python 3",
   "language": "python",
   "name": "python3"
  },
  "language_info": {
   "codemirror_mode": {
    "name": "ipython",
    "version": 3
   },
   "file_extension": ".py",
   "mimetype": "text/x-python",
   "name": "python",
   "nbconvert_exporter": "python",
   "pygments_lexer": "ipython3",
   "version": "3.6.3"
  }
 },
 "nbformat": 4,
 "nbformat_minor": 2
}
